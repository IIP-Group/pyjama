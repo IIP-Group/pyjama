{
 "cells": [
  {
   "cell_type": "code",
   "execution_count": 2,
   "metadata": {},
   "outputs": [],
   "source": [
    "import os\n",
    "import drjit\n",
    "gpu_num = [0, 1, 2, 3, 4, 5] # Use \"\" to use the CPU\n",
    "os.environ[\"CUDA_VISIBLE_DEVICES\"] = f\"{gpu_num}\"\n",
    "os.environ['TF_CPP_MIN_LOG_LEVEL'] = '3'\n",
    "import sionna\n",
    "import tensorflow as tf\n",
    "gpus = tf.config.list_physical_devices('GPU')\n",
    "if gpus:\n",
    "    try:\n",
    "        for gpu in gpus:\n",
    "            tf.config.experimental.set_memory_growth(gpu, True)\n",
    "    except RuntimeError as e:\n",
    "        print(e)\n",
    "tf.get_logger().setLevel('ERROR')\n",
    "# tf.config.run_functions_eagerly(True)\n",
    "\n",
    "from jammer.simulation_model import *\n",
    "import jammer.simulation_model as sim\n",
    "from tensorflow.python.keras.losses import MeanAbsoluteError, MeanSquaredError, BinaryCrossentropy"
   ]
  },
  {
   "cell_type": "code",
   "execution_count": 3,
   "metadata": {},
   "outputs": [],
   "source": [
    "# common parameters\n",
    "model_parameters = {}\n",
    "jammer_parameters = {}\n",
    "model_parameters[\"perfect_csi\"] = False\n",
    "model_parameters[\"num_ut\"] = 1\n",
    "model_parameters[\"jammer_present\"] = True\n",
    "model_parameters[\"jammer_power\"] = 1.0\n",
    "model_parameters[\"jammer_mitigation\"] = \"pos\"\n",
    "model_parameters[\"jammer_mitigation_dimensionality\"] = 1\n",
    "model_parameters[\"num_silent_pilot_symbols\"] = 4\n",
    "jammer_parameters[\"trainable\"] = True\n",
    "model_parameters[\"jammer_parameters\"] = jammer_parameters"
   ]
  },
  {
   "cell_type": "code",
   "execution_count": 4,
   "metadata": {},
   "outputs": [],
   "source": [
    "# needed, as keras MSE does not take |.|\n",
    "abs_mse = lambda y_true, y_pred: tf.reduce_mean(tf.square(tf.abs(y_true - y_pred)))\n",
    "abs_log = lambda y_true, y_pred: tf.reduce_mean(tf.math.log(tf.abs(y_true - y_pred) + 1))\n",
    "# name, loss_fn, over symbols?, loss_over_logits\n",
    "parameters = [\n",
    "    (\"L1 over symbols\", negative_function(MeanAbsoluteError()), True, False),\n",
    "    (\"MSE over symbols\", negative_function(abs_mse), True, False),\n",
    "    (\"L1 over bit estimates\", negative_function(MeanAbsoluteError()), False, False),\n",
    "    (\"MSE over bit estimates\", negative_function(MeanSquaredError()), False, False),\n",
    "    (\"BCE over bit estimates (logits)\", BinaryCrossentropy(from_logits=True), False, True),\n",
    "    (\"log over bit estimates\", negative_function(abs_log), False, False),\n",
    "]\n",
    "sim.BATCH_SIZE = 2"
   ]
  },
  {
   "cell_type": "code",
   "execution_count": 5,
   "metadata": {},
   "outputs": [
    {
     "ename": "OperatorNotAllowedInGraphError",
     "evalue": "in user code:\n\n    File \"/tmp/ipykernel_2398664/767751672.py\", line 4, in train_fn  *\n        model = Model(**model_parameters, return_symbols=over_symbols)\n    File \"/home/msc23h6/MSDocuments/master_thesis/code/mine/jammer_mitigation/jammer/simulation_model.py\", line 141, in __init__  **\n        pilot_pattern = OneHotPilotPattern(self._num_silent_pilot_symbols, self._num_tx, self._num_streams_per_tx, self._num_ofdm_symbols, self._fft_size)\n    File \"/home/msc23h6/MSDocuments/master_thesis/code/mine/jammer_mitigation/jammer/custom_pilots.py\", line 115, in __init__\n        super().__init__(mask, pilots, trainable=False, normalize=normalize,\n    File \"/scratch/fabianu/.conda/envs/sionna-env/lib/python3.9/site-packages/sionna/ofdm/pilot_pattern.py\", line 50, in __init__\n        self._check_settings()\n    File \"/scratch/fabianu/.conda/envs/sionna-env/lib/python3.9/site-packages/sionna/ofdm/pilot_pattern.py\", line 121, in _check_settings\n        assert tf.rank(self._mask)==4, \"`mask` must have four dimensions.\"\n\n    OperatorNotAllowedInGraphError: Using a symbolic `tf.Tensor` as a Python `bool` is not allowed: AutoGraph did convert this function. This might indicate you are trying to use an unsupported feature.\n",
     "output_type": "error",
     "traceback": [
      "\u001b[0;31m---------------------------------------------------------------------------\u001b[0m",
      "\u001b[0;31mOperatorNotAllowedInGraphError\u001b[0m            Traceback (most recent call last)",
      "\u001b[1;32m/home/msc23h6/MSDocuments/master_thesis/code/mine/jammer_mitigation/simulations/training.ipynb Cell 4\u001b[0m line \u001b[0;36m1\n\u001b[1;32m      <a href='vscode-notebook-cell://ssh-remote%2Bmothim.ee.ethz.ch/home/msc23h6/MSDocuments/master_thesis/code/mine/jammer_mitigation/simulations/training.ipynb#W3sdnNjb2RlLXJlbW90ZQ%3D%3D?line=3'>4</a>\u001b[0m         model \u001b[39m=\u001b[39m Model(\u001b[39m*\u001b[39m\u001b[39m*\u001b[39mmodel_parameters, return_symbols\u001b[39m=\u001b[39mover_symbols)\n\u001b[1;32m      <a href='vscode-notebook-cell://ssh-remote%2Bmothim.ee.ethz.ch/home/msc23h6/MSDocuments/master_thesis/code/mine/jammer_mitigation/simulations/training.ipynb#W3sdnNjb2RlLXJlbW90ZQ%3D%3D?line=4'>5</a>\u001b[0m         train_model(model,\n\u001b[1;32m      <a href='vscode-notebook-cell://ssh-remote%2Bmothim.ee.ethz.ch/home/msc23h6/MSDocuments/master_thesis/code/mine/jammer_mitigation/simulations/training.ipynb#W3sdnNjb2RlLXJlbW90ZQ%3D%3D?line=5'>6</a>\u001b[0m                     loss_fn\u001b[39m=\u001b[39mloss_fn,\n\u001b[1;32m      <a href='vscode-notebook-cell://ssh-remote%2Bmothim.ee.ethz.ch/home/msc23h6/MSDocuments/master_thesis/code/mine/jammer_mitigation/simulations/training.ipynb#W3sdnNjb2RlLXJlbW90ZQ%3D%3D?line=6'>7</a>\u001b[0m                     loss_over_logits\u001b[39m=\u001b[39mloss_over_logits,\n\u001b[0;32m   (...)\u001b[0m\n\u001b[1;32m     <a href='vscode-notebook-cell://ssh-remote%2Bmothim.ee.ethz.ch/home/msc23h6/MSDocuments/master_thesis/code/mine/jammer_mitigation/simulations/training.ipynb#W3sdnNjb2RlLXJlbW90ZQ%3D%3D?line=9'>10</a>\u001b[0m                     log_weight_images\u001b[39m=\u001b[39m\u001b[39mTrue\u001b[39;00m,\n\u001b[1;32m     <a href='vscode-notebook-cell://ssh-remote%2Bmothim.ee.ethz.ch/home/msc23h6/MSDocuments/master_thesis/code/mine/jammer_mitigation/simulations/training.ipynb#W3sdnNjb2RlLXJlbW90ZQ%3D%3D?line=10'>11</a>\u001b[0m                     show_final_weights\u001b[39m=\u001b[39m\u001b[39mTrue\u001b[39;00m)\n\u001b[0;32m---> <a href='vscode-notebook-cell://ssh-remote%2Bmothim.ee.ethz.ch/home/msc23h6/MSDocuments/master_thesis/code/mine/jammer_mitigation/simulations/training.ipynb#W3sdnNjb2RlLXJlbW90ZQ%3D%3D?line=12'>13</a>\u001b[0m train_fn(parameters)\n",
      "File \u001b[0;32m/scratch/fabianu/.conda/envs/sionna-env/lib/python3.9/site-packages/tensorflow/python/util/traceback_utils.py:153\u001b[0m, in \u001b[0;36mfilter_traceback.<locals>.error_handler\u001b[0;34m(*args, **kwargs)\u001b[0m\n\u001b[1;32m    151\u001b[0m \u001b[39mexcept\u001b[39;00m \u001b[39mException\u001b[39;00m \u001b[39mas\u001b[39;00m e:\n\u001b[1;32m    152\u001b[0m   filtered_tb \u001b[39m=\u001b[39m _process_traceback_frames(e\u001b[39m.\u001b[39m__traceback__)\n\u001b[0;32m--> 153\u001b[0m   \u001b[39mraise\u001b[39;00m e\u001b[39m.\u001b[39mwith_traceback(filtered_tb) \u001b[39mfrom\u001b[39;00m \u001b[39mNone\u001b[39;00m\n\u001b[1;32m    154\u001b[0m \u001b[39mfinally\u001b[39;00m:\n\u001b[1;32m    155\u001b[0m   \u001b[39mdel\u001b[39;00m filtered_tb\n",
      "File \u001b[0;32m/scratch/fabianu/.conda/envs/sionna-env/lib/python3.9/site-packages/tensorflow/python/eager/polymorphic_function/autograph_util.py:52\u001b[0m, in \u001b[0;36mpy_func_from_autograph.<locals>.autograph_handler\u001b[0;34m(*args, **kwargs)\u001b[0m\n\u001b[1;32m     50\u001b[0m \u001b[39mexcept\u001b[39;00m \u001b[39mException\u001b[39;00m \u001b[39mas\u001b[39;00m e:  \u001b[39m# pylint:disable=broad-except\u001b[39;00m\n\u001b[1;32m     51\u001b[0m   \u001b[39mif\u001b[39;00m \u001b[39mhasattr\u001b[39m(e, \u001b[39m\"\u001b[39m\u001b[39mag_error_metadata\u001b[39m\u001b[39m\"\u001b[39m):\n\u001b[0;32m---> 52\u001b[0m     \u001b[39mraise\u001b[39;00m e\u001b[39m.\u001b[39mag_error_metadata\u001b[39m.\u001b[39mto_exception(e)\n\u001b[1;32m     53\u001b[0m   \u001b[39melse\u001b[39;00m:\n\u001b[1;32m     54\u001b[0m     \u001b[39mraise\u001b[39;00m\n",
      "\u001b[0;31mOperatorNotAllowedInGraphError\u001b[0m: in user code:\n\n    File \"/tmp/ipykernel_2398664/767751672.py\", line 4, in train_fn  *\n        model = Model(**model_parameters, return_symbols=over_symbols)\n    File \"/home/msc23h6/MSDocuments/master_thesis/code/mine/jammer_mitigation/jammer/simulation_model.py\", line 141, in __init__  **\n        pilot_pattern = OneHotPilotPattern(self._num_silent_pilot_symbols, self._num_tx, self._num_streams_per_tx, self._num_ofdm_symbols, self._fft_size)\n    File \"/home/msc23h6/MSDocuments/master_thesis/code/mine/jammer_mitigation/jammer/custom_pilots.py\", line 115, in __init__\n        super().__init__(mask, pilots, trainable=False, normalize=normalize,\n    File \"/scratch/fabianu/.conda/envs/sionna-env/lib/python3.9/site-packages/sionna/ofdm/pilot_pattern.py\", line 50, in __init__\n        self._check_settings()\n    File \"/scratch/fabianu/.conda/envs/sionna-env/lib/python3.9/site-packages/sionna/ofdm/pilot_pattern.py\", line 121, in _check_settings\n        assert tf.rank(self._mask)==4, \"`mask` must have four dimensions.\"\n\n    OperatorNotAllowedInGraphError: Using a symbolic `tf.Tensor` as a Python `bool` is not allowed: AutoGraph did convert this function. This might indicate you are trying to use an unsupported feature.\n"
     ]
    }
   ],
   "source": [
    "@tf.function\n",
    "def train_fn(parameters):\n",
    "    for name, loss_fn, over_symbols, loss_over_logits in parameters:\n",
    "        model = Model(**model_parameters, return_symbols=over_symbols)\n",
    "        train_model(model,\n",
    "                    loss_fn=loss_fn,\n",
    "                    loss_over_logits=loss_over_logits,\n",
    "                    weights_filename=f\"weights/{name}.pickle\",\n",
    "                    log_tensorboard=True,\n",
    "                    log_weight_images=True,\n",
    "                    show_final_weights=True)\n",
    "\n",
    "train_fn(parameters)"
   ]
  },
  {
   "cell_type": "code",
   "execution_count": null,
   "metadata": {},
   "outputs": [],
   "source": []
  }
 ],
 "metadata": {
  "kernelspec": {
   "display_name": "Python 3",
   "language": "python",
   "name": "python3"
  },
  "language_info": {
   "codemirror_mode": {
    "name": "ipython",
    "version": 3
   },
   "file_extension": ".py",
   "mimetype": "text/x-python",
   "name": "python",
   "nbconvert_exporter": "python",
   "pygments_lexer": "ipython3",
   "version": "3.9.18"
  }
 },
 "nbformat": 4,
 "nbformat_minor": 2
}
